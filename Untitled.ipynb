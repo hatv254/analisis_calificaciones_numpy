{
 "cells": [
  {
   "cell_type": "code",
   "execution_count": 1,
   "id": "8c5a3419",
   "metadata": {},
   "outputs": [],
   "source": [
    "import numpy as np"
   ]
  },
  {
   "cell_type": "code",
   "execution_count": 3,
   "id": "154b9f81",
   "metadata": {},
   "outputs": [],
   "source": [
    "calificaciones = np.array([\n",
    "   [1, 60, 63, 63, 99, 69],\n",
    "   [2, 79, 81, 96, 83, 66],\n",
    "   [3, 84, 84, 72, 61, 98],\n",
    "   [4, 99, 83, 84, 77, 97],\n",
    "   [5, 85, 73, 68, 69, 80],\n",
    "   [6, 76, 65, 75, 60, 78],\n",
    "   [7, 95, 84, 89, 79, 79],\n",
    "   [8, 74, 99, 92, 61, 69],\n",
    "   [9, 92, 91, 70, 83, 95],\n",
    "   [10, 71, 88, 94, 60, 60]\n",
    "])"
   ]
  },
  {
   "cell_type": "code",
   "execution_count": 6,
   "id": "c39b6021",
   "metadata": {},
   "outputs": [
    {
     "data": {
      "text/plain": [
       "array([ 1, 60, 63, 63, 99, 69])"
      ]
     },
     "execution_count": 6,
     "metadata": {},
     "output_type": "execute_result"
    }
   ],
   "source": [
    "calificaciones[0,:]"
   ]
  },
  {
   "cell_type": "code",
   "execution_count": null,
   "id": "b05ffd79",
   "metadata": {},
   "outputs": [],
   "source": []
  }
 ],
 "metadata": {
  "kernelspec": {
   "display_name": "Python 3 (ipykernel)",
   "language": "python",
   "name": "python3"
  },
  "language_info": {
   "codemirror_mode": {
    "name": "ipython",
    "version": 3
   },
   "file_extension": ".py",
   "mimetype": "text/x-python",
   "name": "python",
   "nbconvert_exporter": "python",
   "pygments_lexer": "ipython3",
   "version": "3.9.7"
  }
 },
 "nbformat": 4,
 "nbformat_minor": 5
}
